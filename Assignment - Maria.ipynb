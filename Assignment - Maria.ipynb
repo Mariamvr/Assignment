{
 "cells": [
  {
   "cell_type": "markdown",
   "metadata": {},
   "source": [
    "<center>\n",
    "    <img src=\"https://cf-courses-data.s3.us.cloud-object-storage.appdomain.cloud/IBMDeveloperSkillsNetwork-DS0105EN-SkillsNetwork/labs/Module2/images/SN_web_lightmode.png\" width=\"300\" alt=\"cognitiveclass.ai logo\"  />\n",
    "</center>\n"
   ]
  },
  {
   "cell_type": "markdown",
   "metadata": {},
   "source": [
    "#### Add your code below following the instructions given in the course\n"
   ]
  },
  {
   "cell_type": "markdown",
   "metadata": {},
   "source": [
    "# My Jupyter Notebook on IBM Watson Studio"
   ]
  },
  {
   "cell_type": "markdown",
   "metadata": {},
   "source": [
    "**Maria Rosado**"
   ]
  },
  {
   "cell_type": "markdown",
   "metadata": {},
   "source": [
    "Desired occupation: Use data science to do cognitive science analysis"
   ]
  },
  {
   "cell_type": "markdown",
   "metadata": {},
   "source": [
    "I am interested in data science because I love data, it thrills me the concept of being able to establish patterns and the possibility of predict next moves, in whatever environment I find this concept beautiful. I would like to apply what I will learn to the field of cognitive and neuroscience, being able to deeply understand the extent of people's actions, to which point are those related to their past or something else and maybe be able to discover some pattern that could help people to avoid mental diseases like depression, or even something more simple as to understand themselves better is what I would love to do."
   ]
  },
  {
   "cell_type": "markdown",
   "metadata": {},
   "source": [
    "### Count the number of days until I'm 30 years old (from 11-25-2022 (inclusive) until 01-05-2023)"
   ]
  },
  {
   "cell_type": "code",
   "execution_count": 1,
   "metadata": {},
   "outputs": [
    {
     "data": {
      "text/plain": [
       "42"
      ]
     },
     "execution_count": 1,
     "metadata": {},
     "output_type": "execute_result"
    }
   ],
   "source": [
    "Days_Jan = 5\n",
    "Days_Dec = 31\n",
    "Days_Nov = 6\n",
    "Days_Missing = Days_Nov + Days_Jan + Days_Dec\n",
    "Days_Missing"
   ]
  },
  {
   "cell_type": "markdown",
   "metadata": {},
   "source": [
    "`Next a bullet list with some hyperlinks separated by horizontal rules that connect to pages with pictures of puppies, cats and ducks.`\n",
    "\n",
    "***\n",
    "\n",
    "* <a href=\"https://www.rd.com/list/adorable-puppy-pictures/\">Puppies</a>\n",
    "\n",
    "***\n",
    "\n",
    "* <a href=\"https://www.rd.com/list/cute-kittens/\">Cats</a>\n",
    "\n",
    "***\n",
    "\n",
    "* <a href=\"https://www.rd.com/list/cute-kittens/\">Cats</a>\n",
    "\n",
    "***"
   ]
  },
  {
   "cell_type": "markdown",
   "metadata": {},
   "source": []
  }
 ],
 "metadata": {
  "kernelspec": {
   "display_name": "Python",
   "language": "python",
   "name": "conda-env-python-py"
  },
  "language_info": {
   "codemirror_mode": {
    "name": "ipython",
    "version": 3
   },
   "file_extension": ".py",
   "mimetype": "text/x-python",
   "name": "python",
   "nbconvert_exporter": "python",
   "pygments_lexer": "ipython3",
   "version": "3.7.12"
  }
 },
 "nbformat": 4,
 "nbformat_minor": 4
}
